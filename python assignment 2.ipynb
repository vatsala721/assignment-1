{
 "cells": [
  {
   "cell_type": "code",
   "execution_count": null,
   "id": "321083ab",
   "metadata": {},
   "outputs": [],
   "source": [
    "### 1. Write a Python program to convert kilometers to miles?\n",
    "\n",
    "kilometers = int(input(\"Enter the number of kilometers you wish to convert: \"))\n",
    "miles = round(kilometers / 1.609,2)\n",
    "print(kilometers , \"km converts to.\", miles, \"miles.\")"
   ]
  },
  {
   "cell_type": "code",
   "execution_count": null,
   "id": "c2d9cd71",
   "metadata": {},
   "outputs": [],
   "source": [
    "### 2.Write a Python program to convert Celsius to Fahrenheit?\n",
    "\n",
    "celsius = int(input(\"Enter the temperature in Degrees celsius that you would like to convert: \"))\n",
    "fahrenheit = (celsius * 9/5) + 32\n",
    "\n",
    "print(\"The Converted temperature is\",fahrenheit,\"Degrees Fahrenheit.\")"
   ]
  },
  {
   "cell_type": "code",
   "execution_count": null,
   "id": "950b0a3b",
   "metadata": {},
   "outputs": [],
   "source": [
    "### 3. Write a Python program to display calendar?\n",
    "\n",
    "import calendar\n",
    "y = int(input(\"Input the year : \"))\n",
    "m = int(input(\"Input the month : \"))\n",
    "print(calendar.month(y, m))"
   ]
  },
  {
   "cell_type": "code",
   "execution_count": null,
   "id": "d9a34316",
   "metadata": {},
   "outputs": [],
   "source": [
    "### 5. Write a Python program to swap two variables without temp variable?\n",
    "\n",
    "a = int(input(\"entre the value for a:\"))\n",
    "b = int(input(\"entre the value for b:\"))\n",
    "a = a+b\n",
    "b = a-b\n",
    "a = a-b\n",
    "\n",
    "print(\"After Swapping: a=\",a ,\"b=\",b)"
   ]
  }
 ],
 "metadata": {
  "kernelspec": {
   "display_name": "Python 3 (ipykernel)",
   "language": "python",
   "name": "python3"
  },
  "language_info": {
   "codemirror_mode": {
    "name": "ipython",
    "version": 3
   },
   "file_extension": ".py",
   "mimetype": "text/x-python",
   "name": "python",
   "nbconvert_exporter": "python",
   "pygments_lexer": "ipython3",
   "version": "3.9.7"
  }
 },
 "nbformat": 4,
 "nbformat_minor": 5
}
