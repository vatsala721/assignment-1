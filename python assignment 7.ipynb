{
 "cells": [
  {
   "cell_type": "code",
   "execution_count": 1,
   "id": "63d4b859",
   "metadata": {},
   "outputs": [
    {
     "name": "stdout",
     "output_type": "stream",
     "text": [
      "Sum of array is 15\n"
     ]
    }
   ],
   "source": [
    "### 1. Write a Python Program to find sum of array?\n",
    "\n",
    "arr=[1,2,3,4,5]\n",
    "Sum=(sum(arr))\n",
    "print(\"Sum of array is\",Sum)"
   ]
  },
  {
   "cell_type": "code",
   "execution_count": null,
   "id": "5f24ae5d",
   "metadata": {},
   "outputs": [],
   "source": [
    "### 2. Write a Python Program to find largest element in an array?\n",
    "\n",
    "arr = [25,11,4,84,56]\n",
    "\n",
    "max = arr[0]\n",
    "\n",
    "for i in range (0,len(arr)):\n",
    "    \n",
    "    if(arr[i]>max):\n",
    "        max=arr[i]\n",
    "        \n",
    "print(\"largest no is:\" + str(max))"
   ]
  },
  {
   "cell_type": "code",
   "execution_count": null,
   "id": "dbec34f0",
   "metadata": {},
   "outputs": [],
   "source": [
    "### 3. Write a Python Program for array rotation?\n",
    "# unable to answer"
   ]
  },
  {
   "cell_type": "code",
   "execution_count": null,
   "id": "ed5bdb19",
   "metadata": {},
   "outputs": [],
   "source": [
    "### 4. Write a Python Program to Split the array and add the first part to the end?\n",
    "# unable to answer"
   ]
  },
  {
   "cell_type": "code",
   "execution_count": 13,
   "id": "c7666778",
   "metadata": {},
   "outputs": [
    {
     "name": "stdout",
     "output_type": "stream",
     "text": [
      "True\n"
     ]
    }
   ],
   "source": [
    "### 5. Write a Python Program to check if given array is Monotonic?\n",
    "\n",
    "\n",
    "def Monotonic(A):\n",
    "    return (all(A[i] <= A[i + 1] for i in range(len(A) - 1)) or\n",
    "      all(A[i] >= A[i + 1] for i in range(len(A) - 1)))\n",
    "# main\n",
    "A = [1,2,3,4,7,8]\n",
    "print(Monotonic(A))"
   ]
  }
 ],
 "metadata": {
  "kernelspec": {
   "display_name": "Python 3 (ipykernel)",
   "language": "python",
   "name": "python3"
  },
  "language_info": {
   "codemirror_mode": {
    "name": "ipython",
    "version": 3
   },
   "file_extension": ".py",
   "mimetype": "text/x-python",
   "name": "python",
   "nbconvert_exporter": "python",
   "pygments_lexer": "ipython3",
   "version": "3.9.7"
  }
 },
 "nbformat": 4,
 "nbformat_minor": 5
}
