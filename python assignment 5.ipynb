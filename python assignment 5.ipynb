{
 "cells": [
  {
   "cell_type": "code",
   "execution_count": 5,
   "id": "2b44959d",
   "metadata": {},
   "outputs": [
    {
     "name": "stdout",
     "output_type": "stream",
     "text": [
      "Enter the first number:5\n",
      "Enter the second number10\n",
      "LCM of  5 and 10 is 10\n"
     ]
    }
   ],
   "source": [
    "### 1. Write a Python Program to Find LCM?\n",
    "\n",
    "def Compute_LCM(n1,n2):\n",
    "    if n1>n2:\n",
    "        higher=n1\n",
    "    else:\n",
    "        higher=n2\n",
    "    value=higher\n",
    "    while True:\n",
    "        if higher%n1==0 and higher%n2==0:\n",
    "            print(\"LCM of \" ,n1 , \"and\" ,n2, \"is\",higher)\n",
    "        break\n",
    "    else:\n",
    "        higher=higher+value\n",
    "n1= int(input(\"Enter the first number:\"))\n",
    "n2= int(input(\"Enter the second number\"))\n",
    "Compute_LCM(n1,n2)"
   ]
  },
  {
   "cell_type": "code",
   "execution_count": 7,
   "id": "96304ffb",
   "metadata": {},
   "outputs": [
    {
     "data": {
      "text/plain": [
       "2"
      ]
     },
     "execution_count": 7,
     "metadata": {},
     "output_type": "execute_result"
    }
   ],
   "source": [
    "### 2. Write a Python Program to Find HCF?\n",
    "# first method\n",
    "import math\n",
    "math.gcd(4,18)"
   ]
  },
  {
   "cell_type": "code",
   "execution_count": 8,
   "id": "bf545709",
   "metadata": {},
   "outputs": [
    {
     "name": "stdout",
     "output_type": "stream",
     "text": [
      "Enter the first number:4\n",
      "Enter the second number:18\n",
      "2\n"
     ]
    }
   ],
   "source": [
    "# second method to compute HCF/GCD\n",
    "\n",
    "def computeGCD(a,b):\n",
    "    if b==0:\n",
    "        return a\n",
    "    else:\n",
    "         return computeGCD(b,a%b)\n",
    "num1=int(input(\"Enter the first number:\"))\n",
    "num2=int(input(\"Enter the second number:\"))\n",
    "print(computeGCD(num1,num2))"
   ]
  },
  {
   "cell_type": "code",
   "execution_count": null,
   "id": "46f7bcc9",
   "metadata": {},
   "outputs": [],
   "source": [
    "### 3. Write a Python Program to Convert Decimal to Binary, Octal and Hexadecimal?\n",
    "\n",
    "decimal = int(input('enter a number which you want to convert:'))\n",
    "\n",
    "print(\"the conversion of binary number\",decimal,\"is:\")\n",
    "\n",
    "print(bin(decimal),'in binary')\n",
    "print(oct(decimal),'in octal')\n",
    "print(hex(decimal),'in hexadecimal')"
   ]
  },
  {
   "cell_type": "code",
   "execution_count": null,
   "id": "efa2c305",
   "metadata": {},
   "outputs": [],
   "source": [
    "### 4. Write a Python Program To Find ASCII value of a character?\n",
    "\n",
    "val=input(\"enter a character:\")\n",
    "\n",
    "print(\"the ASCII value of'\" +val+ \"'is\",ord(val))"
   ]
  },
  {
   "cell_type": "code",
   "execution_count": null,
   "id": "ce5b8029",
   "metadata": {},
   "outputs": [],
   "source": [
    "### 5. Write a Python Program to Make a Simple Calculator with 4 basic mathematical operations?\n",
    "\n",
    "x=float(input(\"enter first number\"))\n",
    "y=float(input(\"enter second number\"))\n",
    "op=input(\"enter operation\")\n",
    "if op == '+':\n",
    "    print(x+y)\n",
    "elif op == '-':\n",
    "    print(x-y)\n",
    "elif op == '*':\n",
    "    print(x*y)\n",
    "elif op == '/':\n",
    "    print(x/y)\n",
    "elif op == '**':\n",
    "    print(x**y)\n",
    "else:\n",
    "    print(\"invalid option\")\n",
    "    "
   ]
  }
 ],
 "metadata": {
  "kernelspec": {
   "display_name": "Python 3 (ipykernel)",
   "language": "python",
   "name": "python3"
  },
  "language_info": {
   "codemirror_mode": {
    "name": "ipython",
    "version": 3
   },
   "file_extension": ".py",
   "mimetype": "text/x-python",
   "name": "python",
   "nbconvert_exporter": "python",
   "pygments_lexer": "ipython3",
   "version": "3.9.7"
  }
 },
 "nbformat": 4,
 "nbformat_minor": 5
}
