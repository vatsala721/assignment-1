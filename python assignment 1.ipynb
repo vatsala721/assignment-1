{
 "cells": [
  {
   "cell_type": "code",
   "execution_count": 1,
   "id": "9377da2f",
   "metadata": {},
   "outputs": [
    {
     "name": "stdout",
     "output_type": "stream",
     "text": [
      "Hello Python\n"
     ]
    }
   ],
   "source": [
    "### 1. Write a Python program to print \"Hello Python\"?\n",
    "\n",
    "a = \"Hello Python\"\n",
    "print(a)"
   ]
  },
  {
   "cell_type": "code",
   "execution_count": 2,
   "id": "846d1004",
   "metadata": {},
   "outputs": [
    {
     "name": "stdout",
     "output_type": "stream",
     "text": [
      "50\n",
      "1.5\n"
     ]
    }
   ],
   "source": [
    "### 2. Write a Python program to do arithmetical operations addition and division.?\n",
    "\n",
    "a=20\n",
    "b=30\n",
    "# using addition operator\n",
    "c = a+b\n",
    "print(c)\n",
    "\n",
    "\n",
    "val1 = 3\n",
    "val2 = 2\n",
    "# using the division operator\n",
    "result = val1 / val2\n",
    "print(result)"
   ]
  },
  {
   "cell_type": "code",
   "execution_count": 3,
   "id": "094a8a32",
   "metadata": {},
   "outputs": [
    {
     "name": "stdout",
     "output_type": "stream",
     "text": [
      "Enter first side: 5\n",
      "Enter second side: 6\n",
      "Enter third side: 7\n",
      "The area of the triangle is 14.70\n"
     ]
    }
   ],
   "source": [
    "### 3. Write a Python program to find the area of a triangle?\n",
    "\n",
    "\n",
    "# Three sides of the triangle is a, b and c:  \n",
    "a = float(input('Enter first side: '))  \n",
    "b = float(input('Enter second side: '))  \n",
    "c = float(input('Enter third side: '))  \n",
    "  \n",
    "# calculate the semi-perimeter  \n",
    "s = (a + b + c) / 2  \n",
    "  \n",
    "# calculate the area  \n",
    "area = (s*(s-a)*(s-b)*(s-c)) ** 0.5  \n",
    "\n",
    "print('The area of the triangle is %0.2f' %area)   "
   ]
  },
  {
   "cell_type": "code",
   "execution_count": 6,
   "id": "83d44ad5",
   "metadata": {},
   "outputs": [
    {
     "name": "stdout",
     "output_type": "stream",
     "text": [
      "value for a:44\n",
      "value for b:22\n",
      "after swapping: a= 22 and b= 44\n"
     ]
    }
   ],
   "source": [
    "### 4. Write a Python program to swap two variables?\n",
    "\n",
    "a= int(input(\"value for a:\"))\n",
    "b= int(input(\"value for b:\"))\n",
    "\n",
    "temp=a\n",
    "a=b\n",
    "b=temp\n",
    "\n",
    "print(\"after swapping: a=\",a,\"and\",\"b=\",b)"
   ]
  },
  {
   "cell_type": "code",
   "execution_count": 7,
   "id": "34405778",
   "metadata": {},
   "outputs": [
    {
     "name": "stdout",
     "output_type": "stream",
     "text": [
      "135\n"
     ]
    }
   ],
   "source": [
    "### 5. Write a Python program to generate a random number?\n",
    "\n",
    "import random  \n",
    "n = random.randint(100, 200)  \n",
    "print(n)  "
   ]
  },
  {
   "cell_type": "code",
   "execution_count": null,
   "id": "702249a9",
   "metadata": {},
   "outputs": [],
   "source": []
  }
 ],
 "metadata": {
  "kernelspec": {
   "display_name": "Python 3 (ipykernel)",
   "language": "python",
   "name": "python3"
  },
  "language_info": {
   "codemirror_mode": {
    "name": "ipython",
    "version": 3
   },
   "file_extension": ".py",
   "mimetype": "text/x-python",
   "name": "python",
   "nbconvert_exporter": "python",
   "pygments_lexer": "ipython3",
   "version": "3.9.7"
  }
 },
 "nbformat": 4,
 "nbformat_minor": 5
}
