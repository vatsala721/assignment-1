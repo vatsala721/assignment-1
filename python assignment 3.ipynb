{
 "cells": [
  {
   "cell_type": "code",
   "execution_count": null,
   "id": "0b0457db",
   "metadata": {},
   "outputs": [],
   "source": [
    "### 1. Write a Python Program to Check if a Number is Positive, Negative or Zero?\n",
    "\n",
    "num = float(input(\"Input a number: \"))\n",
    "if num > 0:\n",
    "   print(\"It is positive number\")\n",
    "elif num == 0:\n",
    "   print(\"It is Zero\")\n",
    "else:\n",
    "   print(\"It is a negative number\")"
   ]
  },
  {
   "cell_type": "code",
   "execution_count": null,
   "id": "a81617b6",
   "metadata": {},
   "outputs": [],
   "source": [
    "### 2. Write a Python Program to Check if a Number is Odd or Even?\n",
    "\n",
    "num = float(input(\"input a number:\"))\n",
    "if (num%2) == 0 :\n",
    "    print(\"it is a even number\")\n",
    "else:\n",
    "    print(\"it is a odd number\")"
   ]
  },
  {
   "cell_type": "code",
   "execution_count": null,
   "id": "404801b7",
   "metadata": {},
   "outputs": [],
   "source": [
    "### 3. Write a Python Program to Check Leap Year?\n",
    "\n",
    "x = int(input(\"enter an year : \"))\n",
    "print(\"Leap Year\")  if x%400==0 or ( x%4==0 and x%100!=0 ) else print(\"Non Leap Year\")\n"
   ]
  },
  {
   "cell_type": "code",
   "execution_count": null,
   "id": "b561eda2",
   "metadata": {},
   "outputs": [],
   "source": [
    "### 4. Write a Python Program to Check Prime Number?\n",
    "\n",
    "n=int(input(\"Enter a number\"))\n",
    "\n",
    "if n<2:\n",
    "    print(\"Not a prime number\")\n",
    "else:\n",
    "    for i in range(2,n):\n",
    "        if n%i==0:\n",
    "            print(\"Not a prime number\")\n",
    "            break\n",
    "    else:\n",
    "        print(\"Number is Prime\")\n"
   ]
  },
  {
   "cell_type": "code",
   "execution_count": null,
   "id": "c6e63ce6",
   "metadata": {},
   "outputs": [],
   "source": [
    "### 5. Write a Python Program to Print all Prime Numbers in an Interval of 1-10000?\n",
    "lower =int(input(\"enter the lower interval:\"))\n",
    "upper =int(input(\"enter the upper interval:\"))\n",
    "\n",
    "for num in range(lower,upper+1):\n",
    "    if num>1:\n",
    "        for i in range(2,num):\n",
    "            if (num%i)==0:\n",
    "                break\n",
    "        else:\n",
    "            print(num)\n"
   ]
  }
 ],
 "metadata": {
  "kernelspec": {
   "display_name": "Python 3 (ipykernel)",
   "language": "python",
   "name": "python3"
  },
  "language_info": {
   "codemirror_mode": {
    "name": "ipython",
    "version": 3
   },
   "file_extension": ".py",
   "mimetype": "text/x-python",
   "name": "python",
   "nbconvert_exporter": "python",
   "pygments_lexer": "ipython3",
   "version": "3.9.7"
  }
 },
 "nbformat": 4,
 "nbformat_minor": 5
}
