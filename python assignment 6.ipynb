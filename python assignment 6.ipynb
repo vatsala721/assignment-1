{
 "cells": [
  {
   "cell_type": "code",
   "execution_count": 2,
   "id": "20d417ca",
   "metadata": {},
   "outputs": [
    {
     "name": "stdout",
     "output_type": "stream",
     "text": [
      "0 1 1 2 3 5 8 13 21 34 "
     ]
    }
   ],
   "source": [
    "### 1. Write a Python Program to Display Fibonacci Sequence Using Recursion?\n",
    "\n",
    "# fibonacci sequence is the sequence of numbers where a number is the sum of the 2 numbers that came befor it.\n",
    "# the sequence first digits are 0 and 1\n",
    "\n",
    "def fib(n):\n",
    "    if n == 0:\n",
    "        return 0\n",
    "    elif n == 1:\n",
    "        return 1\n",
    "    else:\n",
    "        return fib(n-1)+fib(n-2)\n",
    "for i in range(10):\n",
    "    print(fib(i),end = \" \")"
   ]
  },
  {
   "cell_type": "code",
   "execution_count": 4,
   "id": "009d792b",
   "metadata": {},
   "outputs": [
    {
     "name": "stdout",
     "output_type": "stream",
     "text": [
      "enter the number: 10\n"
     ]
    },
    {
     "data": {
      "text/plain": [
       "3628800"
      ]
     },
     "execution_count": 4,
     "metadata": {},
     "output_type": "execute_result"
    }
   ],
   "source": [
    "### 2. Write a Python Program to Find Factorial of Number Using Recursion?\n",
    "\n",
    "def fact(n):\n",
    "    if n == 1:\n",
    "        return 1\n",
    "    else:\n",
    "        return n*fact(n-1)\n",
    "n = int(input(\"enter the number: \"))\n",
    "fact(n)"
   ]
  },
  {
   "cell_type": "code",
   "execution_count": 16,
   "id": "6101175a",
   "metadata": {},
   "outputs": [
    {
     "name": "stdout",
     "output_type": "stream",
     "text": [
      "calculate your BMI with this program: \n",
      "enter your name: vatsala\n",
      "enter your weight in kg: 60\n",
      "enter your height in m: 1.52\n",
      "vatsala is overweight with a bmi of 25.969529085872576.\n"
     ]
    }
   ],
   "source": [
    "### 3. Write a Python Program to calculate your Body Mass Index?\n",
    "print(\"calculate your BMI with this program: \")\n",
    "name = input(\"enter your name: \")\n",
    "weight = float(input(\"enter your weight in kg: \"))\n",
    "height = float(input(\"enter your height in m: \"))\n",
    "\n",
    "def main():\n",
    "    bmi = weight/ (height**2)\n",
    "    \n",
    "    if bmi < 18.5:\n",
    "        print(f\"{name} is underweu=ight with BMI of{BMI}\")\n",
    "    elif bmi > 18.5 and bmi < 24.9:\n",
    "              print(f\"{name} has a normal bmi of {bmi}\")\n",
    "    elif bmi >25.0 and bmi < 29.9:\n",
    "              print(f\"{name} is overweight with a bmi of {bmi}.\")\n",
    "    elif bmi> 30.0:\n",
    "              print(f\"{name} is obese with a bmi of{bmi}.\")\n",
    "    else:\n",
    "        print(\"invalid response\")\n",
    "        \n",
    "if __name__ == \"__main__\":\n",
    "    main()"
   ]
  },
  {
   "cell_type": "code",
   "execution_count": 11,
   "id": "b8523039",
   "metadata": {},
   "outputs": [
    {
     "name": "stdout",
     "output_type": "stream",
     "text": [
      "enter a number: 15\n"
     ]
    },
    {
     "data": {
      "text/plain": [
       "2.70805020110221"
      ]
     },
     "execution_count": 11,
     "metadata": {},
     "output_type": "execute_result"
    }
   ],
   "source": [
    "### 4. Write a Python Program to calculate the natural logarithm of any number?\n",
    "\n",
    "import math\n",
    "a= int(input(\"enter a number: \"))\n",
    "math.log(a)"
   ]
  },
  {
   "cell_type": "code",
   "execution_count": 13,
   "id": "03ab8748",
   "metadata": {},
   "outputs": [
    {
     "name": "stdout",
     "output_type": "stream",
     "text": [
      "ENTER THE VALUE: 6\n",
      "sum of cubes of given value:  441\n"
     ]
    }
   ],
   "source": [
    "### 5. Write a Python Program for cube sum of first n natural numbers?\n",
    "\n",
    "num=int(input(\"ENTER THE VALUE: \"))\n",
    "\n",
    "ans=(num*(num+1)//2)\n",
    "res=ans*ans\n",
    "\n",
    "print(\"sum of cubes of given value: \",res)"
   ]
  },
  {
   "cell_type": "code",
   "execution_count": null,
   "id": "fdf170f1",
   "metadata": {},
   "outputs": [],
   "source": []
  }
 ],
 "metadata": {
  "kernelspec": {
   "display_name": "Python 3 (ipykernel)",
   "language": "python",
   "name": "python3"
  },
  "language_info": {
   "codemirror_mode": {
    "name": "ipython",
    "version": 3
   },
   "file_extension": ".py",
   "mimetype": "text/x-python",
   "name": "python",
   "nbconvert_exporter": "python",
   "pygments_lexer": "ipython3",
   "version": "3.9.7"
  }
 },
 "nbformat": 4,
 "nbformat_minor": 5
}
