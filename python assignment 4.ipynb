{
 "cells": [
  {
   "cell_type": "code",
   "execution_count": null,
   "id": "14118049",
   "metadata": {},
   "outputs": [],
   "source": [
    "### 1. Write a Python Program to Find the Factorial of a Number?\n",
    "\n",
    "n = int(input(\"enter the number:\"))\n",
    "result = 1\n",
    "for i in range(n,0,-1):\n",
    "    result = result*i\n",
    "    \n",
    "print(\"factorial of\",n,\"is\",result)"
   ]
  },
  {
   "cell_type": "code",
   "execution_count": null,
   "id": "a877fb13",
   "metadata": {},
   "outputs": [],
   "source": [
    "### 2. Write a Python Program to Display the multiplication Table?\n",
    "\n",
    "n = int(input(\"Enter number:\"))\n",
    "for i in range (1,11):\n",
    "    print(n,'*',i,\"=\",n*i)"
   ]
  },
  {
   "cell_type": "code",
   "execution_count": null,
   "id": "2cd1a3d7",
   "metadata": {},
   "outputs": [],
   "source": [
    "### 3. Write a Python Program to Print the Fibonacci sequence?\n",
    "\n",
    "n=int(input(\"enter how many numbers yiu want in the series:\"))\n",
    "first=0\n",
    "second=1\n",
    "for i in range(n):\n",
    "    print(first)\n",
    "    temp=first\n",
    "    first=second\n",
    "    second=temp+second"
   ]
  },
  {
   "cell_type": "code",
   "execution_count": null,
   "id": "d3704655",
   "metadata": {},
   "outputs": [],
   "source": [
    "### 4. Write a Python Program to Check Armstrong Number?\n",
    "#number of n digits which are equal to sum of nth power of digits.\n",
    "\n",
    "num=int(input(\"enter 3 digit number:\"))\n",
    "temp=num\n",
    "sum=0\n",
    "digit=0\n",
    "\n",
    "while temp>0:\n",
    "    digit=temp%10\n",
    "    sum=sum+digit**3\n",
    "    temp=temp//10\n",
    "if num==sum:\n",
    "    print(num,\"is an armstrong number\")\n",
    "else:\n",
    "    print(num,'is not an armstrong number')"
   ]
  },
  {
   "cell_type": "code",
   "execution_count": null,
   "id": "18b8b7d3",
   "metadata": {},
   "outputs": [],
   "source": [
    "### 5. Write a Python Program to Find Armstrong Number in an Interval?\n",
    "\n",
    "lower = int(input(\"Enter lower bound:\"))\n",
    "upper = int(input(\"Enter lower bound:\"))\n",
    "\n",
    "for num in range(lower,upper+1):\n",
    "    temp=num\n",
    "    sum=0\n",
    "    digit=0\n",
    "\n",
    "    while temp>0:\n",
    "        digit=temp%10\n",
    "        sum=sum+digit**3\n",
    "        temp=temp//10\n",
    "    if num==sum:\n",
    "        print(num)"
   ]
  },
  {
   "cell_type": "code",
   "execution_count": 32,
   "id": "520f6cc0",
   "metadata": {},
   "outputs": [
    {
     "name": "stdout",
     "output_type": "stream",
     "text": [
      "Enter number upto which you want to add3\n",
      "SUM = 6\n"
     ]
    }
   ],
   "source": [
    "### 6. Write a Python Program to Find the Sum of Natural Numbers?\n",
    "\n",
    "int(input(\"Enter number upto which you want to add\"))\n",
    "sum=0\n",
    "i=1\n",
    "while(i<=n):\n",
    "    sum=sum+i\n",
    "    i=i+1\n",
    "print(\"SUM =\",sum);"
   ]
  },
  {
   "cell_type": "code",
   "execution_count": 29,
   "id": "1620ba90",
   "metadata": {},
   "outputs": [],
   "source": [
    "def findSum(n) :\n",
    "    sum = 0\n",
    "    x = 1\n",
    "    while x <=n :\n",
    "        sum = sum + x\n",
    "        x = x + 1\n",
    "    return sum"
   ]
  },
  {
   "cell_type": "code",
   "execution_count": 30,
   "id": "05b97e9c",
   "metadata": {},
   "outputs": [
    {
     "data": {
      "text/plain": [
       "6"
      ]
     },
     "execution_count": 30,
     "metadata": {},
     "output_type": "execute_result"
    }
   ],
   "source": [
    "n=3\n",
    "findSum(n)"
   ]
  },
  {
   "cell_type": "code",
   "execution_count": null,
   "id": "0f86ea02",
   "metadata": {},
   "outputs": [],
   "source": []
  }
 ],
 "metadata": {
  "kernelspec": {
   "display_name": "Python 3 (ipykernel)",
   "language": "python",
   "name": "python3"
  },
  "language_info": {
   "codemirror_mode": {
    "name": "ipython",
    "version": 3
   },
   "file_extension": ".py",
   "mimetype": "text/x-python",
   "name": "python",
   "nbconvert_exporter": "python",
   "pygments_lexer": "ipython3",
   "version": "3.9.7"
  }
 },
 "nbformat": 4,
 "nbformat_minor": 5
}
